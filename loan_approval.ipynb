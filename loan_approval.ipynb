{
 "cells": [
  {
   "cell_type": "code",
   "execution_count": 216,
   "id": "dae8f270-4094-4bf7-b86f-124eb0eb2749",
   "metadata": {},
   "outputs": [],
   "source": [
    "import numpy as np\n",
    "import pandas as pd\n",
    "import matplotlib.pyplot as plt\n",
    "import seaborn as sns\n"
   ]
  },
  {
   "cell_type": "code",
   "execution_count": 217,
   "id": "a177982e-0b49-4c90-9acb-8221d1011eb9",
   "metadata": {},
   "outputs": [],
   "source": [
    "train_df=pd.read_csv('train_loan.csv')"
   ]
  },
  {
   "cell_type": "code",
   "execution_count": 218,
   "id": "37251e2a-d3b4-47a0-bec4-9c9faf9bd06f",
   "metadata": {},
   "outputs": [
    {
     "name": "stdout",
     "output_type": "stream",
     "text": [
      "<class 'pandas.core.frame.DataFrame'>\n",
      "RangeIndex: 614 entries, 0 to 613\n",
      "Data columns (total 13 columns):\n",
      " #   Column             Non-Null Count  Dtype  \n",
      "---  ------             --------------  -----  \n",
      " 0   Loan_ID            614 non-null    object \n",
      " 1   Gender             601 non-null    object \n",
      " 2   Married            611 non-null    object \n",
      " 3   Dependents         599 non-null    object \n",
      " 4   Education          614 non-null    object \n",
      " 5   Self_Employed      582 non-null    object \n",
      " 6   ApplicantIncome    614 non-null    int64  \n",
      " 7   CoapplicantIncome  614 non-null    float64\n",
      " 8   LoanAmount         592 non-null    float64\n",
      " 9   Loan_Amount_Term   600 non-null    float64\n",
      " 10  Credit_History     564 non-null    float64\n",
      " 11  Property_Area      614 non-null    object \n",
      " 12  Loan_Status        614 non-null    object \n",
      "dtypes: float64(4), int64(1), object(8)\n",
      "memory usage: 62.5+ KB\n"
     ]
    }
   ],
   "source": [
    "#displays the no. of instances present for each attribute and its data type\n",
    "train_df.info()"
   ]
  },
  {
   "cell_type": "code",
   "execution_count": 219,
   "id": "0c28586d-dbbf-47ac-ae7d-76e8c566a91c",
   "metadata": {},
   "outputs": [
    {
     "data": {
      "text/html": [
       "<div>\n",
       "<style scoped>\n",
       "    .dataframe tbody tr th:only-of-type {\n",
       "        vertical-align: middle;\n",
       "    }\n",
       "\n",
       "    .dataframe tbody tr th {\n",
       "        vertical-align: top;\n",
       "    }\n",
       "\n",
       "    .dataframe thead th {\n",
       "        text-align: right;\n",
       "    }\n",
       "</style>\n",
       "<table border=\"1\" class=\"dataframe\">\n",
       "  <thead>\n",
       "    <tr style=\"text-align: right;\">\n",
       "      <th></th>\n",
       "      <th>ApplicantIncome</th>\n",
       "      <th>CoapplicantIncome</th>\n",
       "      <th>LoanAmount</th>\n",
       "      <th>Loan_Amount_Term</th>\n",
       "      <th>Credit_History</th>\n",
       "    </tr>\n",
       "  </thead>\n",
       "  <tbody>\n",
       "    <tr>\n",
       "      <th>count</th>\n",
       "      <td>614.000000</td>\n",
       "      <td>614.000000</td>\n",
       "      <td>592.000000</td>\n",
       "      <td>600.00000</td>\n",
       "      <td>564.000000</td>\n",
       "    </tr>\n",
       "    <tr>\n",
       "      <th>mean</th>\n",
       "      <td>5403.459283</td>\n",
       "      <td>1621.245798</td>\n",
       "      <td>146.412162</td>\n",
       "      <td>342.00000</td>\n",
       "      <td>0.842199</td>\n",
       "    </tr>\n",
       "    <tr>\n",
       "      <th>std</th>\n",
       "      <td>6109.041673</td>\n",
       "      <td>2926.248369</td>\n",
       "      <td>85.587325</td>\n",
       "      <td>65.12041</td>\n",
       "      <td>0.364878</td>\n",
       "    </tr>\n",
       "    <tr>\n",
       "      <th>min</th>\n",
       "      <td>150.000000</td>\n",
       "      <td>0.000000</td>\n",
       "      <td>9.000000</td>\n",
       "      <td>12.00000</td>\n",
       "      <td>0.000000</td>\n",
       "    </tr>\n",
       "    <tr>\n",
       "      <th>25%</th>\n",
       "      <td>2877.500000</td>\n",
       "      <td>0.000000</td>\n",
       "      <td>100.000000</td>\n",
       "      <td>360.00000</td>\n",
       "      <td>1.000000</td>\n",
       "    </tr>\n",
       "    <tr>\n",
       "      <th>50%</th>\n",
       "      <td>3812.500000</td>\n",
       "      <td>1188.500000</td>\n",
       "      <td>128.000000</td>\n",
       "      <td>360.00000</td>\n",
       "      <td>1.000000</td>\n",
       "    </tr>\n",
       "    <tr>\n",
       "      <th>75%</th>\n",
       "      <td>5795.000000</td>\n",
       "      <td>2297.250000</td>\n",
       "      <td>168.000000</td>\n",
       "      <td>360.00000</td>\n",
       "      <td>1.000000</td>\n",
       "    </tr>\n",
       "    <tr>\n",
       "      <th>max</th>\n",
       "      <td>81000.000000</td>\n",
       "      <td>41667.000000</td>\n",
       "      <td>700.000000</td>\n",
       "      <td>480.00000</td>\n",
       "      <td>1.000000</td>\n",
       "    </tr>\n",
       "  </tbody>\n",
       "</table>\n",
       "</div>"
      ],
      "text/plain": [
       "       ApplicantIncome  CoapplicantIncome  LoanAmount  Loan_Amount_Term  \\\n",
       "count       614.000000         614.000000  592.000000         600.00000   \n",
       "mean       5403.459283        1621.245798  146.412162         342.00000   \n",
       "std        6109.041673        2926.248369   85.587325          65.12041   \n",
       "min         150.000000           0.000000    9.000000          12.00000   \n",
       "25%        2877.500000           0.000000  100.000000         360.00000   \n",
       "50%        3812.500000        1188.500000  128.000000         360.00000   \n",
       "75%        5795.000000        2297.250000  168.000000         360.00000   \n",
       "max       81000.000000       41667.000000  700.000000         480.00000   \n",
       "\n",
       "       Credit_History  \n",
       "count      564.000000  \n",
       "mean         0.842199  \n",
       "std          0.364878  \n",
       "min          0.000000  \n",
       "25%          1.000000  \n",
       "50%          1.000000  \n",
       "75%          1.000000  \n",
       "max          1.000000  "
      ]
     },
     "execution_count": 219,
     "metadata": {},
     "output_type": "execute_result"
    }
   ],
   "source": [
    "train_df.describe()"
   ]
  },
  {
   "cell_type": "code",
   "execution_count": 220,
   "id": "ec4f8348-69ea-4686-98c7-c78658642f42",
   "metadata": {},
   "outputs": [
    {
     "data": {
      "text/html": [
       "<div>\n",
       "<style scoped>\n",
       "    .dataframe tbody tr th:only-of-type {\n",
       "        vertical-align: middle;\n",
       "    }\n",
       "\n",
       "    .dataframe tbody tr th {\n",
       "        vertical-align: top;\n",
       "    }\n",
       "\n",
       "    .dataframe thead th {\n",
       "        text-align: right;\n",
       "    }\n",
       "</style>\n",
       "<table border=\"1\" class=\"dataframe\">\n",
       "  <thead>\n",
       "    <tr style=\"text-align: right;\">\n",
       "      <th></th>\n",
       "      <th>Loan_ID</th>\n",
       "      <th>Gender</th>\n",
       "      <th>Married</th>\n",
       "      <th>Dependents</th>\n",
       "      <th>Education</th>\n",
       "      <th>Self_Employed</th>\n",
       "      <th>ApplicantIncome</th>\n",
       "      <th>CoapplicantIncome</th>\n",
       "      <th>LoanAmount</th>\n",
       "      <th>Loan_Amount_Term</th>\n",
       "      <th>Credit_History</th>\n",
       "      <th>Property_Area</th>\n",
       "      <th>Loan_Status</th>\n",
       "    </tr>\n",
       "  </thead>\n",
       "  <tbody>\n",
       "    <tr>\n",
       "      <th>0</th>\n",
       "      <td>LP001002</td>\n",
       "      <td>Male</td>\n",
       "      <td>No</td>\n",
       "      <td>0</td>\n",
       "      <td>Graduate</td>\n",
       "      <td>No</td>\n",
       "      <td>5849</td>\n",
       "      <td>0.0</td>\n",
       "      <td>NaN</td>\n",
       "      <td>360.0</td>\n",
       "      <td>1.0</td>\n",
       "      <td>Urban</td>\n",
       "      <td>Y</td>\n",
       "    </tr>\n",
       "    <tr>\n",
       "      <th>1</th>\n",
       "      <td>LP001003</td>\n",
       "      <td>Male</td>\n",
       "      <td>Yes</td>\n",
       "      <td>1</td>\n",
       "      <td>Graduate</td>\n",
       "      <td>No</td>\n",
       "      <td>4583</td>\n",
       "      <td>1508.0</td>\n",
       "      <td>128.0</td>\n",
       "      <td>360.0</td>\n",
       "      <td>1.0</td>\n",
       "      <td>Rural</td>\n",
       "      <td>N</td>\n",
       "    </tr>\n",
       "    <tr>\n",
       "      <th>2</th>\n",
       "      <td>LP001005</td>\n",
       "      <td>Male</td>\n",
       "      <td>Yes</td>\n",
       "      <td>0</td>\n",
       "      <td>Graduate</td>\n",
       "      <td>Yes</td>\n",
       "      <td>3000</td>\n",
       "      <td>0.0</td>\n",
       "      <td>66.0</td>\n",
       "      <td>360.0</td>\n",
       "      <td>1.0</td>\n",
       "      <td>Urban</td>\n",
       "      <td>Y</td>\n",
       "    </tr>\n",
       "    <tr>\n",
       "      <th>3</th>\n",
       "      <td>LP001006</td>\n",
       "      <td>Male</td>\n",
       "      <td>Yes</td>\n",
       "      <td>0</td>\n",
       "      <td>Not Graduate</td>\n",
       "      <td>No</td>\n",
       "      <td>2583</td>\n",
       "      <td>2358.0</td>\n",
       "      <td>120.0</td>\n",
       "      <td>360.0</td>\n",
       "      <td>1.0</td>\n",
       "      <td>Urban</td>\n",
       "      <td>Y</td>\n",
       "    </tr>\n",
       "    <tr>\n",
       "      <th>4</th>\n",
       "      <td>LP001008</td>\n",
       "      <td>Male</td>\n",
       "      <td>No</td>\n",
       "      <td>0</td>\n",
       "      <td>Graduate</td>\n",
       "      <td>No</td>\n",
       "      <td>6000</td>\n",
       "      <td>0.0</td>\n",
       "      <td>141.0</td>\n",
       "      <td>360.0</td>\n",
       "      <td>1.0</td>\n",
       "      <td>Urban</td>\n",
       "      <td>Y</td>\n",
       "    </tr>\n",
       "  </tbody>\n",
       "</table>\n",
       "</div>"
      ],
      "text/plain": [
       "    Loan_ID Gender Married Dependents     Education Self_Employed  \\\n",
       "0  LP001002   Male      No          0      Graduate            No   \n",
       "1  LP001003   Male     Yes          1      Graduate            No   \n",
       "2  LP001005   Male     Yes          0      Graduate           Yes   \n",
       "3  LP001006   Male     Yes          0  Not Graduate            No   \n",
       "4  LP001008   Male      No          0      Graduate            No   \n",
       "\n",
       "   ApplicantIncome  CoapplicantIncome  LoanAmount  Loan_Amount_Term  \\\n",
       "0             5849                0.0         NaN             360.0   \n",
       "1             4583             1508.0       128.0             360.0   \n",
       "2             3000                0.0        66.0             360.0   \n",
       "3             2583             2358.0       120.0             360.0   \n",
       "4             6000                0.0       141.0             360.0   \n",
       "\n",
       "   Credit_History Property_Area Loan_Status  \n",
       "0             1.0         Urban           Y  \n",
       "1             1.0         Rural           N  \n",
       "2             1.0         Urban           Y  \n",
       "3             1.0         Urban           Y  \n",
       "4             1.0         Urban           Y  "
      ]
     },
     "execution_count": 220,
     "metadata": {},
     "output_type": "execute_result"
    }
   ],
   "source": [
    "train_df.head()"
   ]
  },
  {
   "cell_type": "code",
   "execution_count": 221,
   "id": "b5442f8e-6964-4172-a28a-464d806bec9b",
   "metadata": {},
   "outputs": [
    {
     "data": {
      "text/plain": [
       "Loan_ID              False\n",
       "Gender                True\n",
       "Married               True\n",
       "Dependents            True\n",
       "Education            False\n",
       "Self_Employed         True\n",
       "ApplicantIncome      False\n",
       "CoapplicantIncome    False\n",
       "LoanAmount            True\n",
       "Loan_Amount_Term      True\n",
       "Credit_History        True\n",
       "Property_Area        False\n",
       "Loan_Status          False\n",
       "dtype: bool"
      ]
     },
     "execution_count": 221,
     "metadata": {},
     "output_type": "execute_result"
    }
   ],
   "source": [
    "#to check if any attribute has null values\n",
    "train_df.isna().any()"
   ]
  },
  {
   "cell_type": "code",
   "execution_count": 222,
   "id": "40559323-0ca4-494d-a906-ef55e23914ac",
   "metadata": {},
   "outputs": [
    {
     "data": {
      "text/plain": [
       "Y    422\n",
       "N    192\n",
       "Name: Loan_Status, dtype: int64"
      ]
     },
     "execution_count": 222,
     "metadata": {},
     "output_type": "execute_result"
    }
   ],
   "source": [
    "#to count the no. of positives and negatives of the target class \"Loan_Status\"\n",
    "train_df['Loan_Status'].value_counts()"
   ]
  },
  {
   "cell_type": "code",
   "execution_count": 223,
   "id": "d2afc3ca-9d5d-44c4-9380-1f42826eb0b7",
   "metadata": {},
   "outputs": [
    {
     "data": {
      "text/plain": [
       "array([[<AxesSubplot:title={'center':'ApplicantIncome'}>,\n",
       "        <AxesSubplot:title={'center':'CoapplicantIncome'}>],\n",
       "       [<AxesSubplot:title={'center':'LoanAmount'}>,\n",
       "        <AxesSubplot:title={'center':'Loan_Amount_Term'}>],\n",
       "       [<AxesSubplot:title={'center':'Credit_History'}>, <AxesSubplot:>]],\n",
       "      dtype=object)"
      ]
     },
     "execution_count": 223,
     "metadata": {},
     "output_type": "execute_result"
    },
    {
     "data": {
      "image/png": "[encoded data removed]",
      "text/plain": [
       "<Figure size 432x288 with 6 Axes>"
      ]
     },
     "metadata": {
      "needs_background": "light"
     },
     "output_type": "display_data"
    }
   ],
   "source": [
    "train_df.hist()"
   ]
  },
  {
   "cell_type": "code",
   "execution_count": 224,
   "id": "7cb1ced8-efd8-4069-928c-5198d02f8898",
   "metadata": {},
   "outputs": [
    {
     "data": {
      "text/html": [
       "<div>\n",
       "<style scoped>\n",
       "    .dataframe tbody tr th:only-of-type {\n",
       "        vertical-align: middle;\n",
       "    }\n",
       "\n",
       "    .dataframe tbody tr th {\n",
       "        vertical-align: top;\n",
       "    }\n",
       "\n",
       "    .dataframe thead th {\n",
       "        text-align: right;\n",
       "    }\n",
       "</style>\n",
       "<table border=\"1\" class=\"dataframe\">\n",
       "  <thead>\n",
       "    <tr style=\"text-align: right;\">\n",
       "      <th></th>\n",
       "      <th>Loan_ID</th>\n",
       "      <th>Gender</th>\n",
       "      <th>Married</th>\n",
       "      <th>Dependents</th>\n",
       "      <th>Education</th>\n",
       "      <th>Self_Employed</th>\n",
       "      <th>ApplicantIncome</th>\n",
       "      <th>CoapplicantIncome</th>\n",
       "      <th>LoanAmount</th>\n",
       "      <th>Loan_Amount_Term</th>\n",
       "      <th>Credit_History</th>\n",
       "      <th>Property_Area</th>\n",
       "      <th>Loan_Status</th>\n",
       "    </tr>\n",
       "  </thead>\n",
       "  <tbody>\n",
       "    <tr>\n",
       "      <th>1</th>\n",
       "      <td>LP001003</td>\n",
       "      <td>Male</td>\n",
       "      <td>Yes</td>\n",
       "      <td>1</td>\n",
       "      <td>Graduate</td>\n",
       "      <td>No</td>\n",
       "      <td>4583</td>\n",
       "      <td>1508.0</td>\n",
       "      <td>128.0</td>\n",
       "      <td>360.0</td>\n",
       "      <td>1.0</td>\n",
       "      <td>Rural</td>\n",
       "      <td>N</td>\n",
       "    </tr>\n",
       "    <tr>\n",
       "      <th>2</th>\n",
       "      <td>LP001005</td>\n",
       "      <td>Male</td>\n",
       "      <td>Yes</td>\n",
       "      <td>0</td>\n",
       "      <td>Graduate</td>\n",
       "      <td>Yes</td>\n",
       "      <td>3000</td>\n",
       "      <td>0.0</td>\n",
       "      <td>66.0</td>\n",
       "      <td>360.0</td>\n",
       "      <td>1.0</td>\n",
       "      <td>Urban</td>\n",
       "      <td>Y</td>\n",
       "    </tr>\n",
       "    <tr>\n",
       "      <th>3</th>\n",
       "      <td>LP001006</td>\n",
       "      <td>Male</td>\n",
       "      <td>Yes</td>\n",
       "      <td>0</td>\n",
       "      <td>Not Graduate</td>\n",
       "      <td>No</td>\n",
       "      <td>2583</td>\n",
       "      <td>2358.0</td>\n",
       "      <td>120.0</td>\n",
       "      <td>360.0</td>\n",
       "      <td>1.0</td>\n",
       "      <td>Urban</td>\n",
       "      <td>Y</td>\n",
       "    </tr>\n",
       "    <tr>\n",
       "      <th>4</th>\n",
       "      <td>LP001008</td>\n",
       "      <td>Male</td>\n",
       "      <td>No</td>\n",
       "      <td>0</td>\n",
       "      <td>Graduate</td>\n",
       "      <td>No</td>\n",
       "      <td>6000</td>\n",
       "      <td>0.0</td>\n",
       "      <td>141.0</td>\n",
       "      <td>360.0</td>\n",
       "      <td>1.0</td>\n",
       "      <td>Urban</td>\n",
       "      <td>Y</td>\n",
       "    </tr>\n",
       "    <tr>\n",
       "      <th>5</th>\n",
       "      <td>LP001011</td>\n",
       "      <td>Male</td>\n",
       "      <td>Yes</td>\n",
       "      <td>2</td>\n",
       "      <td>Graduate</td>\n",
       "      <td>Yes</td>\n",
       "      <td>5417</td>\n",
       "      <td>4196.0</td>\n",
       "      <td>267.0</td>\n",
       "      <td>360.0</td>\n",
       "      <td>1.0</td>\n",
       "      <td>Urban</td>\n",
       "      <td>Y</td>\n",
       "    </tr>\n",
       "    <tr>\n",
       "      <th>...</th>\n",
       "      <td>...</td>\n",
       "      <td>...</td>\n",
       "      <td>...</td>\n",
       "      <td>...</td>\n",
       "      <td>...</td>\n",
       "      <td>...</td>\n",
       "      <td>...</td>\n",
       "      <td>...</td>\n",
       "      <td>...</td>\n",
       "      <td>...</td>\n",
       "      <td>...</td>\n",
       "      <td>...</td>\n",
       "      <td>...</td>\n",
       "    </tr>\n",
       "    <tr>\n",
       "      <th>609</th>\n",
       "      <td>LP002978</td>\n",
       "      <td>Female</td>\n",
       "      <td>No</td>\n",
       "      <td>0</td>\n",
       "      <td>Graduate</td>\n",
       "      <td>No</td>\n",
       "      <td>2900</td>\n",
       "      <td>0.0</td>\n",
       "      <td>71.0</td>\n",
       "      <td>360.0</td>\n",
       "      <td>1.0</td>\n",
       "      <td>Rural</td>\n",
       "      <td>Y</td>\n",
       "    </tr>\n",
       "    <tr>\n",
       "      <th>610</th>\n",
       "      <td>LP002979</td>\n",
       "      <td>Male</td>\n",
       "      <td>Yes</td>\n",
       "      <td>3+</td>\n",
       "      <td>Graduate</td>\n",
       "      <td>No</td>\n",
       "      <td>4106</td>\n",
       "      <td>0.0</td>\n",
       "      <td>40.0</td>\n",
       "      <td>180.0</td>\n",
       "      <td>1.0</td>\n",
       "      <td>Rural</td>\n",
       "      <td>Y</td>\n",
       "    </tr>\n",
       "    <tr>\n",
       "      <th>611</th>\n",
       "      <td>LP002983</td>\n",
       "      <td>Male</td>\n",
       "      <td>Yes</td>\n",
       "      <td>1</td>\n",
       "      <td>Graduate</td>\n",
       "      <td>No</td>\n",
       "      <td>8072</td>\n",
       "      <td>240.0</td>\n",
       "      <td>253.0</td>\n",
       "      <td>360.0</td>\n",
       "      <td>1.0</td>\n",
       "      <td>Urban</td>\n",
       "      <td>Y</td>\n",
       "    </tr>\n",
       "    <tr>\n",
       "      <th>612</th>\n",
       "      <td>LP002984</td>\n",
       "      <td>Male</td>\n",
       "      <td>Yes</td>\n",
       "      <td>2</td>\n",
       "      <td>Graduate</td>\n",
       "      <td>No</td>\n",
       "      <td>7583</td>\n",
       "      <td>0.0</td>\n",
       "      <td>187.0</td>\n",
       "      <td>360.0</td>\n",
       "      <td>1.0</td>\n",
       "      <td>Urban</td>\n",
       "      <td>Y</td>\n",
       "    </tr>\n",
       "    <tr>\n",
       "      <th>613</th>\n",
       "      <td>LP002990</td>\n",
       "      <td>Female</td>\n",
       "      <td>No</td>\n",
       "      <td>0</td>\n",
       "      <td>Graduate</td>\n",
       "      <td>Yes</td>\n",
       "      <td>4583</td>\n",
       "      <td>0.0</td>\n",
       "      <td>133.0</td>\n",
       "      <td>360.0</td>\n",
       "      <td>0.0</td>\n",
       "      <td>Semiurban</td>\n",
       "      <td>N</td>\n",
       "    </tr>\n",
       "  </tbody>\n",
       "</table>\n",
       "<p>480 rows × 13 columns</p>\n",
       "</div>"
      ],
      "text/plain": [
       "      Loan_ID  Gender Married Dependents     Education Self_Employed  \\\n",
       "1    LP001003    Male     Yes          1      Graduate            No   \n",
       "2    LP001005    Male     Yes          0      Graduate           Yes   \n",
       "3    LP001006    Male     Yes          0  Not Graduate            No   \n",
       "4    LP001008    Male      No          0      Graduate            No   \n",
       "5    LP001011    Male     Yes          2      Graduate           Yes   \n",
       "..        ...     ...     ...        ...           ...           ...   \n",
       "609  LP002978  Female      No          0      Graduate            No   \n",
       "610  LP002979    Male     Yes         3+      Graduate            No   \n",
       "611  LP002983    Male     Yes          1      Graduate            No   \n",
       "612  LP002984    Male     Yes          2      Graduate            No   \n",
       "613  LP002990  Female      No          0      Graduate           Yes   \n",
       "\n",
       "     ApplicantIncome  CoapplicantIncome  LoanAmount  Loan_Amount_Term  \\\n",
       "1               4583             1508.0       128.0             360.0   \n",
       "2               3000                0.0        66.0             360.0   \n",
       "3               2583             2358.0       120.0             360.0   \n",
       "4               6000                0.0       141.0             360.0   \n",
       "5               5417             4196.0       267.0             360.0   \n",
       "..               ...                ...         ...               ...   \n",
       "609             2900                0.0        71.0             360.0   \n",
       "610             4106                0.0        40.0             180.0   \n",
       "611             8072              240.0       253.0             360.0   \n",
       "612             7583                0.0       187.0             360.0   \n",
       "613             4583                0.0       133.0             360.0   \n",
       "\n",
       "     Credit_History Property_Area Loan_Status  \n",
       "1               1.0         Rural           N  \n",
       "2               1.0         Urban           Y  \n",
       "3               1.0         Urban           Y  \n",
       "4               1.0         Urban           Y  \n",
       "5               1.0         Urban           Y  \n",
       "..              ...           ...         ...  \n",
       "609             1.0         Rural           Y  \n",
       "610             1.0         Rural           Y  \n",
       "611             1.0         Urban           Y  \n",
       "612             1.0         Urban           Y  \n",
       "613             0.0     Semiurban           N  \n",
       "\n",
       "[480 rows x 13 columns]"
      ]
     },
     "execution_count": 224,
     "metadata": {},
     "output_type": "execute_result"
    }
   ],
   "source": [
    "train_df.dropna()"
   ]
  },
  {
   "cell_type": "code",
   "execution_count": 225,
   "id": "8d035a40-66f7-4c6b-a3d1-1ae9de748e71",
   "metadata": {},
   "outputs": [
    {
     "data": {
      "text/html": [
       "<div>\n",
       "<style scoped>\n",
       "    .dataframe tbody tr th:only-of-type {\n",
       "        vertical-align: middle;\n",
       "    }\n",
       "\n",
       "    .dataframe tbody tr th {\n",
       "        vertical-align: top;\n",
       "    }\n",
       "\n",
       "    .dataframe thead th {\n",
       "        text-align: right;\n",
       "    }\n",
       "</style>\n",
       "<table border=\"1\" class=\"dataframe\">\n",
       "  <thead>\n",
       "    <tr style=\"text-align: right;\">\n",
       "      <th></th>\n",
       "      <th>ApplicantIncome</th>\n",
       "      <th>CoapplicantIncome</th>\n",
       "      <th>LoanAmount</th>\n",
       "      <th>Loan_Amount_Term</th>\n",
       "      <th>Credit_History</th>\n",
       "      <th>Loan_ID_LP001003</th>\n",
       "      <th>Loan_ID_LP001005</th>\n",
       "      <th>Loan_ID_LP001006</th>\n",
       "      <th>Loan_ID_LP001008</th>\n",
       "      <th>Loan_ID_LP001011</th>\n",
       "      <th>...</th>\n",
       "      <th>Gender_Male</th>\n",
       "      <th>Married_Yes</th>\n",
       "      <th>Dependents_1</th>\n",
       "      <th>Dependents_2</th>\n",
       "      <th>Dependents_3+</th>\n",
       "      <th>Education_Not Graduate</th>\n",
       "      <th>Self_Employed_Yes</th>\n",
       "      <th>Property_Area_Semiurban</th>\n",
       "      <th>Property_Area_Urban</th>\n",
       "      <th>Loan_Status_Y</th>\n",
       "    </tr>\n",
       "  </thead>\n",
       "  <tbody>\n",
       "    <tr>\n",
       "      <th>0</th>\n",
       "      <td>5849</td>\n",
       "      <td>0.0</td>\n",
       "      <td>NaN</td>\n",
       "      <td>360.0</td>\n",
       "      <td>1.0</td>\n",
       "      <td>0</td>\n",
       "      <td>0</td>\n",
       "      <td>0</td>\n",
       "      <td>0</td>\n",
       "      <td>0</td>\n",
       "      <td>...</td>\n",
       "      <td>1</td>\n",
       "      <td>0</td>\n",
       "      <td>0</td>\n",
       "      <td>0</td>\n",
       "      <td>0</td>\n",
       "      <td>0</td>\n",
       "      <td>0</td>\n",
       "      <td>0</td>\n",
       "      <td>1</td>\n",
       "      <td>1</td>\n",
       "    </tr>\n",
       "    <tr>\n",
       "      <th>1</th>\n",
       "      <td>4583</td>\n",
       "      <td>1508.0</td>\n",
       "      <td>128.0</td>\n",
       "      <td>360.0</td>\n",
       "      <td>1.0</td>\n",
       "      <td>1</td>\n",
       "      <td>0</td>\n",
       "      <td>0</td>\n",
       "      <td>0</td>\n",
       "      <td>0</td>\n",
       "      <td>...</td>\n",
       "      <td>1</td>\n",
       "      <td>1</td>\n",
       "      <td>1</td>\n",
       "      <td>0</td>\n",
       "      <td>0</td>\n",
       "      <td>0</td>\n",
       "      <td>0</td>\n",
       "      <td>0</td>\n",
       "      <td>0</td>\n",
       "      <td>0</td>\n",
       "    </tr>\n",
       "    <tr>\n",
       "      <th>2</th>\n",
       "      <td>3000</td>\n",
       "      <td>0.0</td>\n",
       "      <td>66.0</td>\n",
       "      <td>360.0</td>\n",
       "      <td>1.0</td>\n",
       "      <td>0</td>\n",
       "      <td>1</td>\n",
       "      <td>0</td>\n",
       "      <td>0</td>\n",
       "      <td>0</td>\n",
       "      <td>...</td>\n",
       "      <td>1</td>\n",
       "      <td>1</td>\n",
       "      <td>0</td>\n",
       "      <td>0</td>\n",
       "      <td>0</td>\n",
       "      <td>0</td>\n",
       "      <td>1</td>\n",
       "      <td>0</td>\n",
       "      <td>1</td>\n",
       "      <td>1</td>\n",
       "    </tr>\n",
       "    <tr>\n",
       "      <th>3</th>\n",
       "      <td>2583</td>\n",
       "      <td>2358.0</td>\n",
       "      <td>120.0</td>\n",
       "      <td>360.0</td>\n",
       "      <td>1.0</td>\n",
       "      <td>0</td>\n",
       "      <td>0</td>\n",
       "      <td>1</td>\n",
       "      <td>0</td>\n",
       "      <td>0</td>\n",
       "      <td>...</td>\n",
       "      <td>1</td>\n",
       "      <td>1</td>\n",
       "      <td>0</td>\n",
       "      <td>0</td>\n",
       "      <td>0</td>\n",
       "      <td>1</td>\n",
       "      <td>0</td>\n",
       "      <td>0</td>\n",
       "      <td>1</td>\n",
       "      <td>1</td>\n",
       "    </tr>\n",
       "    <tr>\n",
       "      <th>4</th>\n",
       "      <td>6000</td>\n",
       "      <td>0.0</td>\n",
       "      <td>141.0</td>\n",
       "      <td>360.0</td>\n",
       "      <td>1.0</td>\n",
       "      <td>0</td>\n",
       "      <td>0</td>\n",
       "      <td>0</td>\n",
       "      <td>1</td>\n",
       "      <td>0</td>\n",
       "      <td>...</td>\n",
       "      <td>1</td>\n",
       "      <td>0</td>\n",
       "      <td>0</td>\n",
       "      <td>0</td>\n",
       "      <td>0</td>\n",
       "      <td>0</td>\n",
       "      <td>0</td>\n",
       "      <td>0</td>\n",
       "      <td>1</td>\n",
       "      <td>1</td>\n",
       "    </tr>\n",
       "  </tbody>\n",
       "</table>\n",
       "<p>5 rows × 628 columns</p>\n",
       "</div>"
      ],
      "text/plain": [
       "   ApplicantIncome  CoapplicantIncome  LoanAmount  Loan_Amount_Term  \\\n",
       "0             5849                0.0         NaN             360.0   \n",
       "1             4583             1508.0       128.0             360.0   \n",
       "2             3000                0.0        66.0             360.0   \n",
       "3             2583             2358.0       120.0             360.0   \n",
       "4             6000                0.0       141.0             360.0   \n",
       "\n",
       "   Credit_History  Loan_ID_LP001003  Loan_ID_LP001005  Loan_ID_LP001006  \\\n",
       "0             1.0                 0                 0                 0   \n",
       "1             1.0                 1                 0                 0   \n",
       "2             1.0                 0                 1                 0   \n",
       "3             1.0                 0                 0                 1   \n",
       "4             1.0                 0                 0                 0   \n",
       "\n",
       "   Loan_ID_LP001008  Loan_ID_LP001011  ...  Gender_Male  Married_Yes  \\\n",
       "0                 0                 0  ...            1            0   \n",
       "1                 0                 0  ...            1            1   \n",
       "2                 0                 0  ...            1            1   \n",
       "3                 0                 0  ...            1            1   \n",
       "4                 1                 0  ...            1            0   \n",
       "\n",
       "   Dependents_1  Dependents_2  Dependents_3+  Education_Not Graduate  \\\n",
       "0             0             0              0                       0   \n",
       "1             1             0              0                       0   \n",
       "2             0             0              0                       0   \n",
       "3             0             0              0                       1   \n",
       "4             0             0              0                       0   \n",
       "\n",
       "   Self_Employed_Yes  Property_Area_Semiurban  Property_Area_Urban  \\\n",
       "0                  0                        0                    1   \n",
       "1                  0                        0                    0   \n",
       "2                  1                        0                    1   \n",
       "3                  0                        0                    1   \n",
       "4                  0                        0                    1   \n",
       "\n",
       "   Loan_Status_Y  \n",
       "0              1  \n",
       "1              0  \n",
       "2              1  \n",
       "3              1  \n",
       "4              1  \n",
       "\n",
       "[5 rows x 628 columns]"
      ]
     },
     "execution_count": 225,
     "metadata": {},
     "output_type": "execute_result"
    }
   ],
   "source": [
    "#the above graph shows each attribute has different scaling and hence scaling is required to get them to a standard scale\n",
    "#encoding categorial variables\n",
    "train_df_encoded = pd.get_dummies(train_df,drop_first=True)\n",
    "train_df_encoded.head()"
   ]
  },
  {
   "cell_type": "code",
   "execution_count": 226,
   "id": "cf903c76-8515-4f92-b2ac-f196621e2fba",
   "metadata": {},
   "outputs": [],
   "source": [
    "X = train_df_encoded.drop(columns='Loan_Status_Y')\n",
    "y = train_df_encoded['Loan_Status_Y']\n"
   ]
  },
  {
   "cell_type": "code",
   "execution_count": 227,
   "id": "5b36fda5-261b-4201-9dd8-0bfb3a8eab66",
   "metadata": {},
   "outputs": [],
   "source": [
    "#split the dataset into train and test set of size 70% and 30% respectively\n",
    "from sklearn.model_selection import train_test_split\n",
    "X_train,X_test,y_train,y_test=train_test_split(X,y,test_size=0.30,stratify=y,random_state=42) \n",
    "#stratify-keeps the same proportion of instances in each split\n"
   ]
  },
  {
   "cell_type": "code",
   "execution_count": 228,
   "id": "89f9bff1-2a3a-4a43-b842-127ca518b7da",
   "metadata": {},
   "outputs": [
    {
     "name": "stdout",
     "output_type": "stream",
     "text": [
      "[[2.4250e+03 2.3400e+03 1.4300e+02 ... 0.0000e+00 1.0000e+00 0.0000e+00]\n",
      " [2.9950e+03 0.0000e+00 6.0000e+01 ... 0.0000e+00 0.0000e+00 1.0000e+00]\n",
      " [1.1757e+04 0.0000e+00 1.8700e+02 ... 0.0000e+00 0.0000e+00 1.0000e+00]\n",
      " ...\n",
      " [5.9410e+03 4.2320e+03 2.9600e+02 ... 0.0000e+00 1.0000e+00 0.0000e+00]\n",
      " [4.2830e+03 2.3830e+03 1.2700e+02 ... 0.0000e+00 1.0000e+00 0.0000e+00]\n",
      " [1.5380e+03 1.4250e+03 3.0000e+01 ... 0.0000e+00 0.0000e+00 1.0000e+00]]\n",
      "[[1.907e+03 2.365e+03 1.200e+02 ... 0.000e+00 0.000e+00 1.000e+00]\n",
      " [3.497e+03 1.964e+03 1.160e+02 ... 0.000e+00 0.000e+00 0.000e+00]\n",
      " [3.775e+03 0.000e+00 1.100e+02 ... 0.000e+00 1.000e+00 0.000e+00]\n",
      " ...\n",
      " [3.276e+03 4.840e+02 1.350e+02 ... 0.000e+00 1.000e+00 0.000e+00]\n",
      " [2.917e+03 0.000e+00 8.400e+01 ... 0.000e+00 1.000e+00 0.000e+00]\n",
      " [4.333e+03 1.811e+03 1.600e+02 ... 0.000e+00 0.000e+00 1.000e+00]]\n"
     ]
    }
   ],
   "source": [
    "#simple imputer is an ML class used to handle missing data in the predictive model as we saw many attributes had null values\n",
    "from sklearn.impute import SimpleImputer\n",
    "imp=SimpleImputer()\n",
    "imp_train=imp.fit(X_train)\n",
    "X_train=imp_train.transform(X_train)\n",
    "X_test_imp=imp_train.transform(X_test)\n",
    "print(X_test_imp)\n",
    "print(X_train)"
   ]
  },
  {
   "cell_type": "code",
   "execution_count": 229,
   "id": "f0f451dc-d576-4398-90c5-1ff28527ec9c",
   "metadata": {},
   "outputs": [],
   "source": [
    "# Feature scaling not required for decision trees"
   ]
  },
  {
   "cell_type": "code",
   "execution_count": 230,
   "id": "a0e52b11-26ad-4a8f-a503-1d81a5a16d3d",
   "metadata": {},
   "outputs": [
    {
     "data": {
      "text/plain": [
       "DecisionTreeClassifier(random_state=42)"
      ]
     },
     "execution_count": 230,
     "metadata": {},
     "output_type": "execute_result"
    }
   ],
   "source": [
    "#DECISION TREE CLASSIFIER\n",
    "from sklearn.tree import DecisionTreeClassifier\n",
    "tree=DecisionTreeClassifier(random_state=42,criterion='gini')\n",
    "tree.fit(X_train,y_train)\n",
    "#gini index gives the impurity value\n"
   ]
  },
  {
   "cell_type": "code",
   "execution_count": 231,
   "id": "da7a8a49-bbf8-487a-b509-cbe946bf118a",
   "metadata": {},
   "outputs": [],
   "source": [
    "y_pred=tree.predict(X_train)"
   ]
  },
  {
   "cell_type": "code",
   "execution_count": 232,
   "id": "ae73def9-7e30-4bea-b026-9769a4b851c4",
   "metadata": {},
   "outputs": [
    {
     "data": {
      "image/png": "[encoded data removed]",
      "text/plain": [
       "<Figure size 432x288 with 2 Axes>"
      ]
     },
     "metadata": {
      "needs_background": "light"
     },
     "output_type": "display_data"
    }
   ],
   "source": [
    "import seaborn as sns\n",
    "from sklearn.metrics import accuracy_score,classification_report,confusion_matrix,f1_score\n",
    "\n",
    "cf_matrix=confusion_matrix(y_train, y_pred)\n",
    "cm=sns.heatmap(cf_matrix,annot=True,cmap='Blues')\n"
   ]
  },
  {
   "cell_type": "code",
   "execution_count": 233,
   "id": "693c7053-e64a-4481-b5b4-3b6ad777161c",
   "metadata": {},
   "outputs": [
    {
     "name": "stdout",
     "output_type": "stream",
     "text": [
      "              precision    recall  f1-score   support\n",
      "\n",
      "           0       1.00      1.00      1.00       134\n",
      "           1       1.00      1.00      1.00       295\n",
      "\n",
      "    accuracy                           1.00       429\n",
      "   macro avg       1.00      1.00      1.00       429\n",
      "weighted avg       1.00      1.00      1.00       429\n",
      "\n"
     ]
    }
   ],
   "source": [
    "report=classification_report(y_train,y_pred)\n",
    "print(report)"
   ]
  },
  {
   "cell_type": "code",
   "execution_count": 234,
   "id": "75505880-6368-4a29-84ab-23be66ae1f82",
   "metadata": {},
   "outputs": [
    {
     "name": "stdout",
     "output_type": "stream",
     "text": [
      "Validation Mean F1 Score:  0.693935949056838\n",
      "Validation Mean Accuracy:  0.7552120383036935\n"
     ]
    }
   ],
   "source": [
    "from sklearn.model_selection import cross_val_score\n",
    "print(\"Validation Mean F1 Score: \",cross_val_score(tree,X_train,y_train,cv=5,scoring='f1_macro').mean())\n",
    "print(\"Validation Mean Accuracy: \",cross_val_score(tree,X_train,y_train,cv=5,scoring='accuracy').mean())"
   ]
  },
  {
   "cell_type": "code",
   "execution_count": 235,
   "id": "5faed026-2b22-49d4-bc0e-f608f58c443a",
   "metadata": {},
   "outputs": [
    {
     "name": "stdout",
     "output_type": "stream",
     "text": [
      "Training Data Set Accuracy:  1.0\n",
      "Training Data F1 Score  1.0\n"
     ]
    }
   ],
   "source": [
    "print(\"Training Data Set Accuracy: \", accuracy_score(y_train,y_pred))\n",
    "print(\"Training Data F1 Score \", f1_score(y_train,y_pred))"
   ]
  },
  {
   "cell_type": "code",
   "execution_count": 236,
   "id": "cfda60c1-a67a-4c12-9ead-2af4eb2f2b17",
   "metadata": {},
   "outputs": [
    {
     "name": "stdout",
     "output_type": "stream",
     "text": [
      "Validation Mean Accuracy:  0.7738927738927739\n",
      "Training Data Set Accuracy:  0.7925407925407926\n"
     ]
    }
   ],
   "source": [
    "# since training scores are greater than the validation scores , the model is overfitting so prune the data by setting a hyperparameter called max_depth\n",
    "#prune using hyperparamets such as max_depth and min_samples_leaf\n",
    "#reduce max_depth and increase min_samples_leaf to overcome overfitting\n",
    "tree_clf=DecisionTreeClassifier(max_depth=2,min_samples_leaf=35)\n",
    "tree_clf.fit(X_train,y_train)\n",
    "y_pred_clf=tree_clf.predict(X_train)\n",
    "print(\"Validation Mean Accuracy: \",cross_val_score(tree_clf,X_train,y_train,cv=3,scoring='accuracy').mean())\n",
    "print(\"Training Data Set Accuracy: \", accuracy_score(y_train,y_pred_clf))\n"
   ]
  },
  {
   "cell_type": "code",
   "execution_count": 237,
   "id": "baee4773-ae42-43f7-a9ae-da59ba1440b0",
   "metadata": {},
   "outputs": [
    {
     "data": {
      "text/plain": [
       "[Text(153.45000000000002, 190.26, 'X[4] <= 0.429\\ngini = 0.43\\nsamples = 429\\nvalue = [134, 295]'),\n",
       " Text(83.7, 135.9, 'X[126] <= 0.5\\ngini = 0.165\\nsamples = 55\\nvalue = [50, 5]'),\n",
       " Text(55.800000000000004, 81.53999999999999, 'X[271] <= 0.5\\ngini = 0.137\\nsamples = 54\\nvalue = [50, 4]'),\n",
       " Text(27.900000000000002, 27.180000000000007, 'gini = 0.107\\nsamples = 53\\nvalue = [50, 3]'),\n",
       " Text(83.7, 27.180000000000007, 'gini = 0.0\\nsamples = 1\\nvalue = [0, 1]'),\n",
       " Text(111.60000000000001, 81.53999999999999, 'gini = 0.0\\nsamples = 1\\nvalue = [0, 1]'),\n",
       " Text(223.20000000000002, 135.9, 'X[2] <= 87.5\\ngini = 0.348\\nsamples = 374\\nvalue = [84, 290]'),\n",
       " Text(167.4, 81.53999999999999, 'X[623] <= 0.5\\ngini = 0.456\\nsamples = 57\\nvalue = [20, 37]'),\n",
       " Text(139.5, 27.180000000000007, 'gini = 0.408\\nsamples = 49\\nvalue = [14, 35]'),\n",
       " Text(195.3, 27.180000000000007, 'gini = 0.375\\nsamples = 8\\nvalue = [6, 2]'),\n",
       " Text(279.0, 81.53999999999999, 'X[2] <= 148.62\\ngini = 0.322\\nsamples = 317\\nvalue = [64, 253]'),\n",
       " Text(251.10000000000002, 27.180000000000007, 'gini = 0.236\\nsamples = 176\\nvalue = [24, 152]'),\n",
       " Text(306.90000000000003, 27.180000000000007, 'gini = 0.406\\nsamples = 141\\nvalue = [40, 101]')]"
      ]
     },
     "execution_count": 237,
     "metadata": {},
     "output_type": "execute_result"
    },
    {
     "data": {
      "image/png": "[encoded data removed]",
      "text/plain": [
       "<Figure size 432x288 with 1 Axes>"
      ]
     },
     "metadata": {
      "needs_background": "light"
     },
     "output_type": "display_data"
    }
   ],
   "source": [
    "#visualizing the decision tree\n",
    "#can also be done using tree.export_graphviz\n",
    "from sklearn.tree import DecisionTreeClassifier\n",
    "from sklearn import tree\n",
    "\n",
    "tree_clf = DecisionTreeClassifier(max_depth = 3)\n",
    "tree_clf.fit(X_train,y_train)\n",
    "tree_clf.predict(X_train)\n",
    "tree.plot_tree(tree_clf)\n"
   ]
  },
  {
   "cell_type": "code",
   "execution_count": 238,
   "id": "090b9724-636c-49ce-a131-df554d130af9",
   "metadata": {},
   "outputs": [
    {
     "name": "stdout",
     "output_type": "stream",
     "text": [
      "Test Accuracy:  0.8486486486486486\n",
      "Test F1 Score:  0.8992805755395684\n",
      "              precision    recall  f1-score   support\n",
      "\n",
      "           0       0.94      0.55      0.70        58\n",
      "           1       0.83      0.98      0.90       127\n",
      "\n",
      "    accuracy                           0.85       185\n",
      "   macro avg       0.88      0.77      0.80       185\n",
      "weighted avg       0.86      0.85      0.84       185\n",
      "\n"
     ]
    }
   ],
   "source": [
    "#evaluating test metrics\n",
    "from sklearn.metrics import confusion_matrix\n",
    "tree_clf = DecisionTreeClassifier(max_depth=3,min_samples_leaf = 35)\n",
    "tree_clf.fit(X_train,y_train)\n",
    "y_pred = tree_clf.predict(X_test_imp)\n",
    "print(\"Test Accuracy: \",accuracy_score(y_test,y_pred))\n",
    "print(\"Test F1 Score: \",f1_score(y_test,y_pred))\n",
    "report_test=classification_report(y_test,y_pred)\n",
    "print(report_test)\n"
   ]
  },
  {
   "cell_type": "code",
   "execution_count": 239,
   "id": "891d9320-deec-4044-84df-3c249f635e55",
   "metadata": {},
   "outputs": [
    {
     "name": "stdout",
     "output_type": "stream",
     "text": [
      "Confusion Matrix on Test Data\n"
     ]
    },
    {
     "data": {
      "text/html": [
       "<div>\n",
       "<style scoped>\n",
       "    .dataframe tbody tr th:only-of-type {\n",
       "        vertical-align: middle;\n",
       "    }\n",
       "\n",
       "    .dataframe tbody tr th {\n",
       "        vertical-align: top;\n",
       "    }\n",
       "\n",
       "    .dataframe thead th {\n",
       "        text-align: right;\n",
       "    }\n",
       "</style>\n",
       "<table border=\"1\" class=\"dataframe\">\n",
       "  <thead>\n",
       "    <tr style=\"text-align: right;\">\n",
       "      <th>Predicted</th>\n",
       "      <th>0</th>\n",
       "      <th>1</th>\n",
       "      <th>All</th>\n",
       "    </tr>\n",
       "    <tr>\n",
       "      <th>True</th>\n",
       "      <th></th>\n",
       "      <th></th>\n",
       "      <th></th>\n",
       "    </tr>\n",
       "  </thead>\n",
       "  <tbody>\n",
       "    <tr>\n",
       "      <th>0</th>\n",
       "      <td>32</td>\n",
       "      <td>26</td>\n",
       "      <td>58</td>\n",
       "    </tr>\n",
       "    <tr>\n",
       "      <th>1</th>\n",
       "      <td>2</td>\n",
       "      <td>125</td>\n",
       "      <td>127</td>\n",
       "    </tr>\n",
       "    <tr>\n",
       "      <th>All</th>\n",
       "      <td>34</td>\n",
       "      <td>151</td>\n",
       "      <td>185</td>\n",
       "    </tr>\n",
       "  </tbody>\n",
       "</table>\n",
       "</div>"
      ],
      "text/plain": [
       "Predicted   0    1  All\n",
       "True                   \n",
       "0          32   26   58\n",
       "1           2  125  127\n",
       "All        34  151  185"
      ]
     },
     "execution_count": 239,
     "metadata": {},
     "output_type": "execute_result"
    }
   ],
   "source": [
    "print(\"Confusion Matrix on Test Data\")\n",
    "pd.crosstab(y_test, y_pred, rownames=['True'], colnames=['Predicted'], margins=True)"
   ]
  },
  {
   "cell_type": "code",
   "execution_count": 240,
   "id": "d24b931f-90fc-4051-8b4b-a167dbf9efb3",
   "metadata": {},
   "outputs": [
    {
     "data": {
      "text/plain": [
       "RandomForestClassifier(max_depth=2, min_samples_leaf=35, min_samples_split=4)"
      ]
     },
     "execution_count": 240,
     "metadata": {},
     "output_type": "execute_result"
    }
   ],
   "source": [
    "# RANDOM FOREST CLASSIFIER\n",
    "\n",
    "from sklearn.ensemble import RandomForestClassifier\n",
    "classifier = RandomForestClassifier(n_estimators= 100 , max_depth=2,min_samples_leaf=35,min_samples_split=4)\n",
    "classifier.fit(X_train, y_train)"
   ]
  },
  {
   "cell_type": "code",
   "execution_count": 241,
   "id": "0544993a-229d-4d53-9601-028f4b713223",
   "metadata": {},
   "outputs": [],
   "source": [
    "y_pred_rc = classifier.predict(X_train)\n"
   ]
  },
  {
   "cell_type": "code",
   "execution_count": 242,
   "id": "0d20f776-035f-471a-a1d8-21bd225b4868",
   "metadata": {},
   "outputs": [
    {
     "name": "stdout",
     "output_type": "stream",
     "text": [
      "Train F1 Score  0.8149171270718232\n",
      "Train Accuracy  0.6876456876456877\n",
      "Validation Mean F1 Score:  0.40746168582375486\n",
      "Validation Mean Accuracy:  0.6876607387140903\n"
     ]
    }
   ],
   "source": [
    "from sklearn.metrics import confusion_matrix, accuracy_score\n",
    "\n",
    "print(\"Train F1 Score \", f1_score(y_train,y_pred_rc))\n",
    "print(\"Train Accuracy \", accuracy_score(y_train,y_pred_rc))\n",
    "\n",
    "print(\"Validation Mean F1 Score: \",cross_val_score(classifier,X_train,y_train,cv=5,scoring='f1_macro').mean())\n",
    "print(\"Validation Mean Accuracy: \",cross_val_score(classifier,X_train,y_train,cv=5,scoring='accuracy').mean())"
   ]
  },
  {
   "cell_type": "code",
   "execution_count": 243,
   "id": "38337a57-2358-4ef7-b181-fd121ac92ad0",
   "metadata": {},
   "outputs": [
    {
     "name": "stdout",
     "output_type": "stream",
     "text": [
      "Test Accuracy:  0.6864864864864865\n",
      "Test F1 Score:  0.814102564102564\n",
      "Confusion Matrix on Test Data\n"
     ]
    }
   ],
   "source": [
    "y_pred_rc = classifier.predict(X_test_imp)\n",
    "print(\"Test Accuracy: \",accuracy_score(y_test,y_pred_rc))\n",
    "print(\"Test F1 Score: \",f1_score(y_test,y_pred_rc))\n",
    "print(\"Confusion Matrix on Test Data\")\n",
    "cm_reg=pd.crosstab(y_test, y_pred_rc, rownames=['True'], colnames=['Predicted'], margins=True)        "
   ]
  },
  {
   "cell_type": "code",
   "execution_count": 244,
   "id": "b5060e86-2628-4b28-9f41-073cdfdb02c6",
   "metadata": {},
   "outputs": [
    {
     "data": {
      "text/plain": [
       "<AxesSubplot:xlabel='Predicted', ylabel='True'>"
      ]
     },
     "execution_count": 244,
     "metadata": {},
     "output_type": "execute_result"
    },
    {
     "data": {
      "image/png": "[encoded data removed]",
      "text/plain": [
       "<Figure size 432x288 with 2 Axes>"
      ]
     },
     "metadata": {
      "needs_background": "light"
     },
     "output_type": "display_data"
    }
   ],
   "source": [
    "cf_reg=sns.heatmap(cm_reg,annot=True,cmap='Blues')\n",
    "cf_reg"
   ]
  },
  {
   "cell_type": "code",
   "execution_count": 245,
   "id": "0b4db695-6b42-47b5-957e-5a3a12d90fc7",
   "metadata": {},
   "outputs": [
    {
     "name": "stdout",
     "output_type": "stream",
     "text": [
      "              precision    recall  f1-score   support\n",
      "\n",
      "           0       0.00      0.00      0.00        58\n",
      "           1       0.69      1.00      0.81       127\n",
      "\n",
      "    accuracy                           0.69       185\n",
      "   macro avg       0.34      0.50      0.41       185\n",
      "weighted avg       0.47      0.69      0.56       185\n",
      "\n"
     ]
    },
    {
     "name": "stderr",
     "output_type": "stream",
     "text": [
      "C:\\Users\\91948\\anaconda3\\lib\\site-packages\\sklearn\\metrics\\_classification.py:1245: UndefinedMetricWarning: Precision and F-score are ill-defined and being set to 0.0 in labels with no predicted samples. Use `zero_division` parameter to control this behavior.\n",
      "  _warn_prf(average, modifier, msg_start, len(result))\n",
      "C:\\Users\\91948\\anaconda3\\lib\\site-packages\\sklearn\\metrics\\_classification.py:1245: UndefinedMetricWarning: Precision and F-score are ill-defined and being set to 0.0 in labels with no predicted samples. Use `zero_division` parameter to control this behavior.\n",
      "  _warn_prf(average, modifier, msg_start, len(result))\n",
      "C:\\Users\\91948\\anaconda3\\lib\\site-packages\\sklearn\\metrics\\_classification.py:1245: UndefinedMetricWarning: Precision and F-score are ill-defined and being set to 0.0 in labels with no predicted samples. Use `zero_division` parameter to control this behavior.\n",
      "  _warn_prf(average, modifier, msg_start, len(result))\n"
     ]
    }
   ],
   "source": [
    "report_reg=classification_report(y_test,y_pred_rc)\n",
    "print(report_reg)"
   ]
  },
  {
   "cell_type": "code",
   "execution_count": 246,
   "id": "8d6e5013-e2f4-4c75-b5e4-25ee58f6a758",
   "metadata": {},
   "outputs": [
    {
     "data": {
      "text/plain": [
       "LogisticRegression()"
      ]
     },
     "execution_count": 246,
     "metadata": {},
     "output_type": "execute_result"
    }
   ],
   "source": [
    "from sklearn.linear_model import LogisticRegression\n",
    "log=LogisticRegression()\n",
    "log.fit(X_train,y_train)"
   ]
  },
  {
   "cell_type": "code",
   "execution_count": 247,
   "id": "9e59aecf-a130-4476-b20d-335411388def",
   "metadata": {},
   "outputs": [],
   "source": [
    "pred=log.predict(X_train)"
   ]
  },
  {
   "cell_type": "code",
   "execution_count": 248,
   "id": "c18b2f7e-307b-4e22-8fb7-47738dd40b7c",
   "metadata": {},
   "outputs": [
    {
     "name": "stdout",
     "output_type": "stream",
     "text": [
      "Train Accuracy: 0.7902097902097902\n",
      "Validation Set Accuracy: 0.6876607387140903\n"
     ]
    }
   ],
   "source": [
    "print(\"Train Accuracy:\",accuracy_score(y_train,pred))\n",
    "print(\"Validation Set Accuracy:\",cross_val_score(classifier,X_train,y_train,cv=5,scoring='accuracy').mean())\n"
   ]
  },
  {
   "cell_type": "code",
   "execution_count": 264,
   "id": "530a31bc-fb28-4453-9024-1756b81a2db5",
   "metadata": {},
   "outputs": [
    {
     "data": {
      "text/plain": [
       "<AxesSubplot:xlabel='Decision Threshold', ylabel='Values'>"
      ]
     },
     "execution_count": 264,
     "metadata": {},
     "output_type": "execute_result"
    },
    {
     "data": {
      "image/png": "[encoded data removed]",
      "text/plain": [
       "<Figure size 1080x360 with 1 Axes>"
      ]
     },
     "metadata": {
      "needs_background": "light"
     },
     "output_type": "display_data"
    }
   ],
   "source": [
    "train_accuracies = []\n",
    "train_f1_scores = []\n",
    "test_accuracies = []\n",
    "test_f1_scores = []\n",
    "thresholds = []\n",
    "\n",
    "#for thresh in np.linspace(0.1,0.9,8): ## Sweeping from threshold of 0.1 to 0.9\n",
    "for thresh in np.arange(0.1,0.9,0.1): ## Sweeping from threshold of 0.1 to 0.9\n",
    "    logreg_clf = LogisticRegression(solver='liblinear')\n",
    "    logreg_clf.fit(X_train,y_train)\n",
    "    \n",
    "    y_pred_train_thresh = logreg_clf.predict_proba(X_train)[:,1]\n",
    "    y_pred_train = (y_pred_train_thresh > thresh).astype(int)\n",
    "\n",
    "    train_acc = accuracy_score(y_train,y_pred_train)\n",
    "    train_f1 = f1_score(y_train,y_pred_train)\n",
    "    y_pred_test_thresh = logreg_clf.predict_proba(X_test_imp)[:,1]\n",
    "    y_pred_test = (y_pred_test_thresh > thresh).astype(int) \n",
    "    \n",
    "    test_acc = accuracy_score(y_test,y_pred_test)\n",
    "    test_f1 = f1_score(y_test,y_pred_test)\n",
    "    \n",
    "    train_accuracies.append(train_acc)\n",
    "    train_f1_scores.append(train_f1)\n",
    "    test_accuracies.append(test_acc)\n",
    "    test_f1_scores.append(test_f1)\n",
    "    thresholds.append(thresh)\n",
    "    \n",
    "    \n",
    "Threshold_logreg = {\"Training Accuracy\": train_accuracies, \"Test Accuracy\": test_accuracies, \"Training F1\": train_f1_scores, \"Test F1\":test_f1_scores, \"Decision Threshold\": thresholds }\n",
    "Threshold_logreg_df = pd.DataFrame.from_dict(Threshold_logreg)\n",
    "\n",
    "plot_df = Threshold_logreg_df.melt('Decision Threshold',var_name='Metrics',value_name=\"Values\")\n",
    "fig,ax = plt.subplots(figsize=(15,5))\n",
    "sns.pointplot(x=\"Decision Threshold\", y=\"Values\",hue=\"Metrics\", data=plot_df,ax=ax)"
   ]
  },
  {
   "cell_type": "code",
   "execution_count": 267,
   "id": "a6fd6d27-a7bd-49b9-bc73-e1d42036a0d1",
   "metadata": {},
   "outputs": [
    {
     "name": "stdout",
     "output_type": "stream",
     "text": [
      "Test Accuracy:  0.8432432432432433\n",
      "Test F1 Score:  0.8960573476702509\n",
      "Confusion Matrix on Test Data\n"
     ]
    },
    {
     "data": {
      "text/html": [
       "<div>\n",
       "<style scoped>\n",
       "    .dataframe tbody tr th:only-of-type {\n",
       "        vertical-align: middle;\n",
       "    }\n",
       "\n",
       "    .dataframe tbody tr th {\n",
       "        vertical-align: top;\n",
       "    }\n",
       "\n",
       "    .dataframe thead th {\n",
       "        text-align: right;\n",
       "    }\n",
       "</style>\n",
       "<table border=\"1\" class=\"dataframe\">\n",
       "  <thead>\n",
       "    <tr style=\"text-align: right;\">\n",
       "      <th>Predicted</th>\n",
       "      <th>0</th>\n",
       "      <th>1</th>\n",
       "      <th>All</th>\n",
       "    </tr>\n",
       "    <tr>\n",
       "      <th>True</th>\n",
       "      <th></th>\n",
       "      <th></th>\n",
       "      <th></th>\n",
       "    </tr>\n",
       "  </thead>\n",
       "  <tbody>\n",
       "    <tr>\n",
       "      <th>0</th>\n",
       "      <td>31</td>\n",
       "      <td>27</td>\n",
       "      <td>58</td>\n",
       "    </tr>\n",
       "    <tr>\n",
       "      <th>1</th>\n",
       "      <td>2</td>\n",
       "      <td>125</td>\n",
       "      <td>127</td>\n",
       "    </tr>\n",
       "    <tr>\n",
       "      <th>All</th>\n",
       "      <td>33</td>\n",
       "      <td>152</td>\n",
       "      <td>185</td>\n",
       "    </tr>\n",
       "  </tbody>\n",
       "</table>\n",
       "</div>"
      ],
      "text/plain": [
       "Predicted   0    1  All\n",
       "True                   \n",
       "0          31   27   58\n",
       "1           2  125  127\n",
       "All        33  152  185"
      ]
     },
     "execution_count": 267,
     "metadata": {},
     "output_type": "execute_result"
    }
   ],
   "source": [
    "thresh = 0.4 ### Threshold chosen from above Curves\n",
    "y_pred_test_thresh = logreg_clf.predict_proba(X_test_imp)[:,1]\n",
    "y_pred = (y_pred_test_thresh > thresh).astype(int) \n",
    "print(\"Test Accuracy: \",accuracy_score(y_test,y_pred))\n",
    "print(\"Test F1 Score: \",f1_score(y_test,y_pred))\n",
    "print(\"Confusion Matrix on Test Data\")\n",
    "pd.crosstab(y_test, y_pred, rownames=['True'], colnames=['Predicted'], margins=True)"
   ]
  },
  {
   "cell_type": "code",
   "execution_count": 268,
   "id": "d17edf59-de39-4874-a9d1-57226da50bbf",
   "metadata": {},
   "outputs": [
    {
     "name": "stdout",
     "output_type": "stream",
     "text": [
      "              precision    recall  f1-score   support\n",
      "\n",
      "           0       0.85      0.40      0.54       134\n",
      "           1       0.78      0.97      0.86       295\n",
      "\n",
      "    accuracy                           0.79       429\n",
      "   macro avg       0.82      0.68      0.70       429\n",
      "weighted avg       0.80      0.79      0.76       429\n",
      "\n"
     ]
    }
   ],
   "source": [
    "report_log=classification_report(y_train,pred)\n",
    "print(report_log)"
   ]
  },
  {
   "cell_type": "code",
   "execution_count": 269,
   "id": "c839c3aa-de0b-4495-bfbb-6809a83cd7e5",
   "metadata": {},
   "outputs": [
    {
     "name": "stdout",
     "output_type": "stream",
     "text": [
      "[[ 53  81]\n",
      " [  9 286]]\n",
      "AxesSubplot(0.125,0.125;0.62x0.755)\n"
     ]
    },
    {
     "data": {
      "image/png": "[encoded data removed]",
      "text/plain": [
       "<Figure size 432x288 with 2 Axes>"
      ]
     },
     "metadata": {
      "needs_background": "light"
     },
     "output_type": "display_data"
    }
   ],
   "source": [
    "cf_log=confusion_matrix(y_train,pred)\n",
    "cm_log=sns.heatmap(cf_log,annot=True,cmap=\"Blues\")\n",
    "print(cf_log)\n",
    "print(cm_log)"
   ]
  }
 ],
 "metadata": {
  "kernelspec": {
   "display_name": "Python 3 (ipykernel)",
   "language": "python",
   "name": "python3"
  },
  "language_info": {
   "codemirror_mode": {
    "name": "ipython",
    "version": 3
   },
   "file_extension": ".py",
   "mimetype": "text/x-python",
   "name": "python",
   "nbconvert_exporter": "python",
   "pygments_lexer": "ipython3",
   "version": "3.8.8"
  }
 },
 "nbformat": 4,
 "nbformat_minor": 5
}
